{
  "nbformat": 4,
  "nbformat_minor": 0,
  "metadata": {
    "colab": {
      "provenance": [],
      "authorship_tag": "ABX9TyN0uYqTDgrfTlWguCE+7Xc/",
      "include_colab_link": true
    },
    "kernelspec": {
      "name": "python3",
      "display_name": "Python 3"
    },
    "language_info": {
      "name": "python"
    }
  },
  "cells": [
    {
      "cell_type": "markdown",
      "metadata": {
        "id": "view-in-github",
        "colab_type": "text"
      },
      "source": [
        "<a href=\"https://colab.research.google.com/github/TaeGuSeo/Terms-and-Conditions-Analysis-System/blob/main/%ED%83%80%EC%9D%B4%ED%8B%80_%EC%B6%94%EC%B6%9C.ipynb\" target=\"_parent\"><img src=\"https://colab.research.google.com/assets/colab-badge.svg\" alt=\"Open In Colab\"/></a>"
      ]
    },
    {
      "cell_type": "code",
      "execution_count": null,
      "metadata": {
        "id": "6-AhAJoJQU1u"
      },
      "outputs": [],
      "source": [
        "from google.colab import drive\n",
        "drive.mount('/content/drive')\n",
        "\n",
        "!pip install opencv-python pytesseract scikit-learn pandas\n",
        "!pip install konlpy  # KoNLPy 설치\n",
        "\n",
        "import os\n",
        "import cv2\n",
        "import pytesseract\n",
        "import pandas as pd\n",
        "from sklearn.feature_extraction.text import TfidfVectorizer\n",
        "from sklearn.metrics.pairwise import cosine_similarity\n",
        "from konlpy.tag import Kkma  # Kkma 추가\n",
        "\n",
        "!apt-get install tesseract-ocr\n",
        "!apt-get install tesseract-ocr-kor\n",
        "\n",
        "import pytesseract\n",
        "pytesseract.pytesseract.tesseract_cmd = \"/usr/bin/tesseract\"  # Tesseract 바이너리 파일 경로로 설정\n",
        "\n",
        "# Kkma 형태소 분석기 초기화\n",
        "kkma = Kkma()\n",
        "\n",
        "# 한국어 형태소 분석 및 명사 추출 함수 정의\n",
        "def extract_nouns(text):\n",
        "    nouns = kkma.nouns(text)  # 명사 추출\n",
        "    return \" \".join(nouns)    # 추출된 명사를 공백으로 연결하여 반환\n",
        "\n",
        "# 약관 설명 XML 파일들을 읽어서 데이터프레임으로 만들어주는 함수\n",
        "def read_xml_files(xml_data_folder):\n",
        "    data = []\n",
        "    for filename in os.listdir(xml_data_folder):\n",
        "        if filename.endswith(\".xml\"):\n",
        "            filepath = os.path.join(xml_data_folder, filename)\n",
        "            with open(filepath, 'r') as file:\n",
        "                xml_text = file.read()\n",
        "            data.append({'filename': filename, 'xml_text': xml_text})\n",
        "    return pd.DataFrame(data)\n",
        "\n",
        "# 이미지에서 텍스트 추출을 위한 함수\n",
        "def extract_text_from_image(image_path):\n",
        "    image = cv2.imread(image_path)\n",
        "    gray = cv2.cvtColor(image, cv2.COLOR_BGR2GRAY)\n",
        "    text = pytesseract.image_to_string(gray, lang='kor')\n",
        "    return text\n",
        "\n",
        "# 법률 데이터셋과 유사도를 측정하는 함수\n",
        "def find_most_similar_file(user_text, legal_data):\n",
        "    tfidf_vectorizer = TfidfVectorizer(analyzer=extract_nouns, stop_words=['보험', '약관', '부분','기타'])\n",
        "    tfidf_matrix = tfidf_vectorizer.fit_transform(legal_data['xml_text'])\n",
        "    user_tfidf = tfidf_vectorizer.transform([user_text])\n",
        "\n",
        "    similarities = cosine_similarity(user_tfidf, tfidf_matrix)\n",
        "    most_similar_index = similarities.argmax()\n",
        "    most_similar_filename = legal_data.loc[most_similar_index, 'filename']\n",
        "    return most_similar_filename\n",
        "\n",
        "if __name__ == \"__main__\":\n",
        "    # 약관 설명 XML 파일들을 읽어서 데이터프레임으로 만듦\n",
        "    xml_data_folder = \"/content/drive/MyDrive/데이터 샘플/sample/약관/원천데이터\"\n",
        "    user_image_path = \"/content/drive/MyDrive/데이터 샘플/20230801_044925.jpg\"\n",
        "\n",
        "    legal_data = read_xml_files(xml_data_folder)\n",
        "\n",
        "    # 사용자가 입력한 이미지로부터 텍스트를 추출.\n",
        "    user_text = extract_text_from_image(user_image_path)\n",
        "\n",
        "    # 유사도 측정하여 가장 유사한 약관 파일 찾음\n",
        "    most_similar_filename = find_most_similar_file(user_text, legal_data)\n",
        "\n",
        "    # 파일 이름에서 앞의 3글자와 뒤의 6글자를 제외한 부분 추출\n",
        "    keyword = most_similar_filename[4:-10]\n",
        "\n",
        "    # 출력\n",
        "    print(\"약관명:\", keyword)"
      ]
    }
  ]
}